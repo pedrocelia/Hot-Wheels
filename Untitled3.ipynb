{
 "cells": [
  {
   "cell_type": "markdown",
   "metadata": {},
   "source": [
    "# MODELAGEM E SIMULAÇÃO DO MUNDO FÍSICO #\n",
    "\n",
    "*PROJETO HOTWHEELS*\n",
    "\n"
   ]
  },
  {
   "cell_type": "code",
   "execution_count": 1,
   "metadata": {},
   "outputs": [],
   "source": [
    "import math\n",
    "import numpy as np\n",
    "import matplotlib.pyplot as plt\n",
    "from scipy.integrate import odeint\n",
    "\n",
    "\n",
    "R = 0.1\n",
    "I = 1\n",
    "g = 10\n",
    "m = 65/1000\n",
    "#mrotação = 4*I/Rex**2\n",
    "peso = m*g\n",
    "Cd = 0.82\n",
    "A = 10\n",
    "p = 1\n",
    "#ang = math.radians(30)\n",
    "sen = 1/2\n",
    "cos = math.sqrt(3)/2"
   ]
  },
  {
   "cell_type": "code",
   "execution_count": 4,
   "metadata": {},
   "outputs": [],
   "source": [
    "def EquaçãoDiferencial(listaSolucao, t):\n",
    "    x = listaSolucao[0]\n",
    "    y = listaSolucao[1]\n",
    "    Vx = listaSolucao[2]\n",
    "    Vy = listaSolucao[3]\n",
    "    v = math.sqrt(Vx**2 + Vy**2)\n",
    "    D = 1/2*(p*Cd*A*(v**2))\n",
    "    N = peso*cos\n",
    "    fat = (m*g*sen)/(1 + m*R**2/I)\n",
    "    dxdt = x\n",
    "    dydt = y\n",
    "    dVxdt = ((N*sen) - (D*cos) - (4*fat*cos))/m\n",
    "    dVydt = (((N*cos) + (D*sen) + (4*fat*cos))/m) - g\n",
    "    return dxdt, dydt, dVxdt, dVydt\n",
    "\n",
    "    "
   ]
  },
  {
   "cell_type": "code",
   "execution_count": 5,
   "metadata": {},
   "outputs": [
    {
     "name": "stderr",
     "output_type": "stream",
     "text": [
      "C:\\Users\\Fernando\\Anaconda3\\lib\\site-packages\\scipy\\integrate\\odepack.py:236: ODEintWarning: Excess work done on this call (perhaps wrong Dfun type). Run with full_output = 1 to get quantitative information.\n",
      "  warnings.warn(warning_msg, ODEintWarning)\n"
     ]
    },
    {
     "data": {
      "image/png": "[encoded data removed]",
      "text/plain": [
       "<Figure size 432x288 with 1 Axes>"
      ]
     },
     "metadata": {
      "needs_background": "light"
     },
     "output_type": "display_data"
    }
   ],
   "source": [
    "delta_t = 1e-2\n",
    "tempo = np.arange(0,10,delta_t)\n",
    "CI = [0,10/100,0,0]\n",
    "solucao = odeint(EquaçãoDiferencial, CI, tempo)\n",
    "plt.plot(solucao[:,0], solucao[:,1])\n",
    "plt.grid(True)\n",
    "plt.show()"
   ]
  },
  {
   "cell_type": "code",
   "execution_count": null,
   "metadata": {},
   "outputs": [],
   "source": []
  },
  {
   "cell_type": "code",
   "execution_count": null,
   "metadata": {},
   "outputs": [],
   "source": []
  }
 ],
 "metadata": {
  "kernelspec": {
   "display_name": "Python 3",
   "language": "python",
   "name": "python3"
  },
  "language_info": {
   "codemirror_mode": {
    "name": "ipython",
    "version": 3
   },
   "file_extension": ".py",
   "mimetype": "text/x-python",
   "name": "python",
   "nbconvert_exporter": "python",
   "pygments_lexer": "ipython3",
   "version": "3.7.1"
  }
 },
 "nbformat": 4,
 "nbformat_minor": 2
}
