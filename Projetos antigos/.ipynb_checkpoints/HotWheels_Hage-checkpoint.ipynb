{
 "cells": [
  {
   "cell_type": "code",
   "execution_count": 1,
   "metadata": {},
   "outputs": [
    {
     "name": "stdout",
     "output_type": "stream",
     "text": [
      "Altura:  0.13891854213354426\n",
      "Xmax:  0.7878462024097663\n"
     ]
    }
   ],
   "source": [
    "import math\n",
    "import numpy as np\n",
    "import matplotlib.pyplot as plt\n",
    "from scipy.integrate import odeint\n",
    "\n",
    "# colocando os parâmetros\n",
    "\n",
    "mr = 0.5/1000 #em gramas\n",
    "m = 42.24/1000 #em gramas\n",
    "R1 = 1/1000 #em metros\n",
    "R2 = 99/2/1000 #em metros\n",
    "I = 1/2*(mr*((R1**2)+(R2**2)))\n",
    "g = 9.8 #metros/segundo**2\n",
    "peso = m*g #em N\n",
    "Cd = 0.82\n",
    "A = (2/100)*(2/100)\n",
    "p = 1\n",
    "ang = math.radians(10)\n",
    "sen = math.sin(ang)\n",
    "cos = math.cos(ang)\n",
    "altura = 0.8*math.sin(ang)\n",
    "Xmax = altura/math.tan(ang) #comprimento no eixo x\n",
    "R_do_loop = 11/100\n",
    "\n",
    "print(\"Altura: \", altura)\n",
    "print(\"Xmax: \", Xmax)"
   ]
  },
  {
   "cell_type": "code",
   "execution_count": 2,
   "metadata": {},
   "outputs": [],
   "source": [
    "def Rampa(listaSolucao, t, a, Xmax):\n",
    "    x = listaSolucao[0]\n",
    "    y = listaSolucao[1]\n",
    "    Vx = listaSolucao[2]\n",
    "    Vy = listaSolucao[3]\n",
    "    v = math.sqrt(Vx**2 + Vy**2)\n",
    "    D = 1/2*(p*Cd*A*(v**2))\n",
    "    N = peso*cos\n",
    "    fat = (peso*sen-D)/(4 + m*(R2**2)/I)\n",
    "    D = 0\n",
    "    dxdt = Vx\n",
    "    dydt = Vy\n",
    "    dVxdt = ((N*sen) - (D*cos) - (4*fat*cos))/m\n",
    "    dVydt = ((N*cos) + (D*sen) + (4*fat*sen))/m - g    \n",
    "    if x > Xmax:        \n",
    "        dVxdt = 0\n",
    "        dVydt = 0        \n",
    "    return dxdt, dydt, dVxdt, dVydt"
   ]
  },
  {
   "cell_type": "code",
   "execution_count": 3,
   "metadata": {},
   "outputs": [],
   "source": [
    "delta_t = 1e-4\n",
    "tempo = np.arange(0,2,delta_t)\n",
    "CI = [0,altura,0,0]\n",
    "solucaoRampa = odeint(Rampa, CI, tempo, args=(ang, Xmax))"
   ]
  },
  {
   "cell_type": "code",
   "execution_count": 4,
   "metadata": {
    "scrolled": true
   },
   "outputs": [
    {
     "data": {
      "image/png": "[encoded data removed]",
      "text/plain": [
       "<Figure size 432x288 with 1 Axes>"
      ]
     },
     "metadata": {
      "needs_background": "light"
     },
     "output_type": "display_data"
    }
   ],
   "source": [
    "#plotando trajtória\n",
    "plt.plot(solucaoRampa[:,0], solucaoRampa[:,1])\n",
    "plt.xlabel('Posição no eixo x (m)')\n",
    "plt.ylabel('Posição no eixo y (m)')\n",
    "plt.title('Trajetória na rampa')\n",
    "plt.axis('equal')\n",
    "plt.grid(True)\n",
    "plt.show()"
   ]
  },
  {
   "cell_type": "code",
   "execution_count": 5,
   "metadata": {},
   "outputs": [],
   "source": [
    "def Loop(listaSolucao, t):\n",
    "    a = listaSolucao[0]\n",
    "    w = listaSolucao[1]\n",
    "    dadt = w\n",
    "    v = w*R_do_loop\n",
    "    D = 1/2*(p*Cd*A*(v**2))\n",
    "    D=0\n",
    "    #velocidade positiva\n",
    "    if w > 0:\n",
    "        fat = (-peso*math.cos(a)-D)/(4 + m*(R2**2)/I)       \n",
    "        dwdt = (-peso*math.cos(a) - D - 4*fat)/(m*R_do_loop)       \n",
    "\n",
    "    #velocidade negativa\n",
    "    else:\n",
    "        fat = (peso*math.cos(a)-D)/(4 + m*(R2**2)/I)\n",
    "        dwdt = (-peso*math.cos(a) + D + 4*fat)/(m*R_do_loop)\n",
    "    return dadt, dwdt,v"
   ]
  },
  {
   "cell_type": "code",
   "execution_count": 6,
   "metadata": {},
   "outputs": [
    {
     "ename": "RuntimeError",
     "evalue": "The size of the array returned by func (3) does not match the size of y0 (2).",
     "output_type": "error",
     "traceback": [
      "\u001b[1;31m---------------------------------------------------------------------------\u001b[0m",
      "\u001b[1;31mRuntimeError\u001b[0m                              Traceback (most recent call last)",
      "\u001b[1;32m<ipython-input-6-69b65c6fc7ca>\u001b[0m in \u001b[0;36m<module>\u001b[1;34m\u001b[0m\n\u001b[0;32m      5\u001b[0m \u001b[0mw0\u001b[0m \u001b[1;33m=\u001b[0m \u001b[0mvf\u001b[0m\u001b[1;33m/\u001b[0m\u001b[0mR_do_loop\u001b[0m\u001b[1;33m\u001b[0m\u001b[1;33m\u001b[0m\u001b[0m\n\u001b[0;32m      6\u001b[0m \u001b[0mCI1\u001b[0m \u001b[1;33m=\u001b[0m \u001b[1;33m[\u001b[0m\u001b[0ma0\u001b[0m\u001b[1;33m,\u001b[0m\u001b[0mw0\u001b[0m\u001b[1;33m]\u001b[0m\u001b[1;33m\u001b[0m\u001b[1;33m\u001b[0m\u001b[0m\n\u001b[1;32m----> 7\u001b[1;33m \u001b[0msolucaoLoop\u001b[0m \u001b[1;33m=\u001b[0m \u001b[0modeint\u001b[0m\u001b[1;33m(\u001b[0m\u001b[0mLoop\u001b[0m\u001b[1;33m,\u001b[0m \u001b[0mCI1\u001b[0m\u001b[1;33m,\u001b[0m \u001b[0mtempo\u001b[0m\u001b[1;33m)\u001b[0m\u001b[1;33m\u001b[0m\u001b[1;33m\u001b[0m\u001b[0m\n\u001b[0m\u001b[0;32m      8\u001b[0m \u001b[1;33m\u001b[0m\u001b[0m\n\u001b[0;32m      9\u001b[0m \u001b[1;31m#lista de todos os alphas no tempo\u001b[0m\u001b[1;33m\u001b[0m\u001b[1;33m\u001b[0m\u001b[1;33m\u001b[0m\u001b[0m\n",
      "\u001b[1;32m~\\Anaconda3\\lib\\site-packages\\scipy\\integrate\\odepack.py\u001b[0m in \u001b[0;36modeint\u001b[1;34m(func, y0, t, args, Dfun, col_deriv, full_output, ml, mu, rtol, atol, tcrit, h0, hmax, hmin, ixpr, mxstep, mxhnil, mxordn, mxords, printmessg, tfirst)\u001b[0m\n\u001b[0;32m    231\u001b[0m                              \u001b[0mfull_output\u001b[0m\u001b[1;33m,\u001b[0m \u001b[0mrtol\u001b[0m\u001b[1;33m,\u001b[0m \u001b[0matol\u001b[0m\u001b[1;33m,\u001b[0m \u001b[0mtcrit\u001b[0m\u001b[1;33m,\u001b[0m \u001b[0mh0\u001b[0m\u001b[1;33m,\u001b[0m \u001b[0mhmax\u001b[0m\u001b[1;33m,\u001b[0m \u001b[0mhmin\u001b[0m\u001b[1;33m,\u001b[0m\u001b[1;33m\u001b[0m\u001b[1;33m\u001b[0m\u001b[0m\n\u001b[0;32m    232\u001b[0m                              \u001b[0mixpr\u001b[0m\u001b[1;33m,\u001b[0m \u001b[0mmxstep\u001b[0m\u001b[1;33m,\u001b[0m \u001b[0mmxhnil\u001b[0m\u001b[1;33m,\u001b[0m \u001b[0mmxordn\u001b[0m\u001b[1;33m,\u001b[0m \u001b[0mmxords\u001b[0m\u001b[1;33m,\u001b[0m\u001b[1;33m\u001b[0m\u001b[1;33m\u001b[0m\u001b[0m\n\u001b[1;32m--> 233\u001b[1;33m                              int(bool(tfirst)))\n\u001b[0m\u001b[0;32m    234\u001b[0m     \u001b[1;32mif\u001b[0m \u001b[0moutput\u001b[0m\u001b[1;33m[\u001b[0m\u001b[1;33m-\u001b[0m\u001b[1;36m1\u001b[0m\u001b[1;33m]\u001b[0m \u001b[1;33m<\u001b[0m \u001b[1;36m0\u001b[0m\u001b[1;33m:\u001b[0m\u001b[1;33m\u001b[0m\u001b[1;33m\u001b[0m\u001b[0m\n\u001b[0;32m    235\u001b[0m         \u001b[0mwarning_msg\u001b[0m \u001b[1;33m=\u001b[0m \u001b[0m_msgs\u001b[0m\u001b[1;33m[\u001b[0m\u001b[0moutput\u001b[0m\u001b[1;33m[\u001b[0m\u001b[1;33m-\u001b[0m\u001b[1;36m1\u001b[0m\u001b[1;33m]\u001b[0m\u001b[1;33m]\u001b[0m \u001b[1;33m+\u001b[0m \u001b[1;34m\" Run with full_output = 1 to get quantitative information.\"\u001b[0m\u001b[1;33m\u001b[0m\u001b[1;33m\u001b[0m\u001b[0m\n",
      "\u001b[1;31mRuntimeError\u001b[0m: The size of the array returned by func (3) does not match the size of y0 (2)."
     ]
    }
   ],
   "source": [
    "vxf = solucaoRampa[:,2][-1]\n",
    "vyf = solucaoRampa[:,3][-1]\n",
    "vf = math.sqrt((vxf**2) + (vyf**2))\n",
    "a0 = -math.pi/2 - ang\n",
    "w0 = vf/R_do_loop\n",
    "CI1 = [a0,w0]\n",
    "solucaoLoop = odeint(Loop, CI1, tempo)\n",
    "\n",
    "#lista de todos os alphas no tempo\n",
    "alphas = solucaoLoop[:,0]\n",
    "\n",
    "#lista de todos os omegas no tempo\n",
    "omegas = solucaoLoop[:,1]\n",
    "\n",
    "#Calculando posição\n",
    "xloop = [R_do_loop*math.cos(a) for a in alphas]\n",
    "yloop = [R_do_loop*math.sin(a) for a in alphas]\n",
    "plt.plot(xloop, yloop)\n",
    "plt.plot(xloop[0], yloop[0], 'ro')\n",
    "plt.axis('equal')\n",
    "plt.grid(True)\n",
    "plt.show()"
   ]
  },
  {
   "cell_type": "code",
   "execution_count": null,
   "metadata": {},
   "outputs": [],
   "source": [
    "xtotal = []\n",
    "ytotal = []\n",
    "\n",
    "for i in range(0,len(tempo)):\n",
    "    if(solucaoRampa[:,1][i]>=0):\n",
    "        xtotal.append(solucaoRampa[:,0][i])\n",
    "        ytotal.append(solucaoRampa[:,1][i])\n",
    "        \n",
    "for i in range(0,len(tempo)):\n",
    "    xtotal.append(xloop[i] + Xmax + R_do_loop*math.sin(ang))\n",
    "    ytotal.append(yloop[i] + R_do_loop*math.cos(ang)) \n",
    "\n",
    "\n",
    "plt.plot(xtotal, ytotal)\n",
    "plt.plot(Xmax,0, 'ro')\n",
    "plt.axis('equal')\n",
    "plt.grid(True)\n",
    "plt.title('Trajetória total do Hot Wheels')\n",
    "plt.show()"
   ]
  },
  {
   "cell_type": "code",
   "execution_count": null,
   "metadata": {},
   "outputs": [],
   "source": [
    "#código para ver o comportamento da força Normal no percurso\n",
    "\n",
    "def CaiuOuNao(solucaoLoop):\n",
    "    \n",
    "    ListaN=[]\n",
    "    for i in range(0, len(tempo)):z\n",
    "        a = (solucaoLoop[:,0])[i]\n",
    "        w = (solucaoLoop[:,1])[i]     \n",
    "        N=m*w**2*R_do_loop-m*g*math.sin(a)\n",
    "        ListaN.append(N)    \n",
    "    \n",
    "    for i, N in enumerate(ListaN):\n",
    "        if N < 0:\n",
    "            Caiu=True\n",
    "            break\n",
    "        if i == len(ListaN)-1:\n",
    "            Caiu=False\n",
    "    return Caiu\n",
    "   \n",
    "    \n",
    "    \n",
    "    \n"
   ]
  },
  {
   "cell_type": "code",
   "execution_count": null,
   "metadata": {},
   "outputs": [],
   "source": [
    "if CaiuOuNao(solucaoLoop) is True:\n",
    "    print(\"O carrinho cai com ângulo %.1f\" %math.degrees(ang))\n",
    "else:\n",
    "    print(\"O carrinho não cai com ângulo %.1f\" %math.degrees(ang))"
   ]
  },
  {
   "cell_type": "code",
   "execution_count": null,
   "metadata": {},
   "outputs": [],
   "source": []
  }
 ],
 "metadata": {
  "kernelspec": {
   "display_name": "Python 3",
   "language": "python",
   "name": "python3"
  },
  "language_info": {
   "codemirror_mode": {
    "name": "ipython",
    "version": 3
   },
   "file_extension": ".py",
   "mimetype": "text/x-python",
   "name": "python",
   "nbconvert_exporter": "python",
   "pygments_lexer": "ipython3",
   "version": "3.7.1"
  }
 },
 "nbformat": 4,
 "nbformat_minor": 2
}
